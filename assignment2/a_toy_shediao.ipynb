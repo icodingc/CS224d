{
 "cells": [
  {
   "cell_type": "code",
   "execution_count": 1,
   "metadata": {
    "collapsed": true
   },
   "outputs": [],
   "source": [
    "import itertools\n",
    "import nltk\n",
    "import jieba\n",
    "vocabulary_size = 800\n",
    "unknown_token = u\"U\"\n",
    "sentence_start_token = u\"S\"\n",
    "sentence_end_token = u\"E\"\n",
    "%load_ext autoreload\n",
    "%autoreload 2"
   ]
  },
  {
   "cell_type": "code",
   "execution_count": 2,
   "metadata": {
    "collapsed": false
   },
   "outputs": [
    {
     "name": "stderr",
     "output_type": "stream",
     "text": [
      "Building prefix dict from D:\\Anaconda\\lib\\site-packages\\jieba\\dict.txt ...\n",
      "DEBUG:jieba:Building prefix dict from D:\\Anaconda\\lib\\site-packages\\jieba\\dict.txt ...\n",
      "Loading model from cache c:\\users\\zxs\\appdata\\local\\temp\\jieba.cache\n",
      "DEBUG:jieba:Loading model from cache c:\\users\\zxs\\appdata\\local\\temp\\jieba.cache\n",
      "Loading model cost 0.396 seconds.\n",
      "DEBUG:jieba:Loading model cost 0.396 seconds.\n",
      "Prefix dict has been built succesfully.\n",
      "DEBUG:jieba:Prefix dict has been built succesfully.\n"
     ]
    },
    {
     "name": "stdout",
     "output_type": "stream",
     "text": [
      "Read txt file...\n"
     ]
    }
   ],
   "source": [
    "print \"Read txt file...\"\n",
    "with open(\"data/ppd/shediao.txt\",\"rb\") as f:\n",
    "    reader = f.readlines()\n",
    "    sentences = [jieba.lcut(x) for x in reader if len(x) > 3]"
   ]
  },
  {
   "cell_type": "code",
   "execution_count": 3,
   "metadata": {
    "collapsed": false
   },
   "outputs": [
    {
     "name": "stdout",
     "output_type": "stream",
     "text": [
      "8615\n",
      "<type 'list'>\n",
      "<type 'list'>\n"
     ]
    }
   ],
   "source": [
    "print len(sentences)\n",
    "print type(sentences)\n",
    "print type(sentences[0])"
   ]
  },
  {
   "cell_type": "code",
   "execution_count": 4,
   "metadata": {
    "collapsed": false
   },
   "outputs": [
    {
     "name": "stdout",
     "output_type": "stream",
     "text": [
      "        那 说话 人 五十 来 岁 年纪 ， 一件 青布 长袍 早洗 得 褪成 了 蓝灰色 。 只 听 他 两片 梨花 木板 碰 了 几下 ， 左手 中 竹棒 在 一面 小 羯鼓 上 敲起 得 得 连声 。 唱道 ： “ 小桃 无主自 开花 ， 烟草 茫茫 带 晚鸦 。 几处 败垣围 故井 ， 向来 一一 是 人家 。 ” \r\n"
     ]
    }
   ],
   "source": [
    "for a in sentences[5]:\n",
    "    print a,"
   ]
  },
  {
   "cell_type": "code",
   "execution_count": 5,
   "metadata": {
    "collapsed": true
   },
   "outputs": [],
   "source": [
    "# add S E\n",
    "for a in sentences:\n",
    "    a.insert(0,sentence_start_token)\n",
    "    a.insert(len(a)-1,sentence_end_token)"
   ]
  },
  {
   "cell_type": "code",
   "execution_count": 6,
   "metadata": {
    "collapsed": false
   },
   "outputs": [
    {
     "name": "stdout",
     "output_type": "stream",
     "text": [
      "S         那 说话 人 五十 来 岁 年纪 ， 一件 青布 长袍 早洗 得 褪成 了 蓝灰色 。 只 听 他 两片 梨花 木板 碰 了 几下 ， 左手 中 竹棒 在 一面 小 羯鼓 上 敲起 得 得 连声 。 唱道 ： “ 小桃 无主自 开花 ， 烟草 茫茫 带 晚鸦 。 几处 败垣围 故井 ， 向来 一一 是 人家 。 ” E \r\n"
     ]
    }
   ],
   "source": [
    "for a in sentences[5]:\n",
    "    print a,"
   ]
  },
  {
   "cell_type": "code",
   "execution_count": 7,
   "metadata": {
    "collapsed": true
   },
   "outputs": [],
   "source": [
    "word_freq = nltk.FreqDist(itertools.chain(*sentences))"
   ]
  },
  {
   "cell_type": "code",
   "execution_count": 8,
   "metadata": {
    "collapsed": false
   },
   "outputs": [
    {
     "name": "stdout",
     "output_type": "stream",
     "text": [
      "固须 1\n",
      "赏收 1\n",
      "陆上 2\n",
      "脾性 1\n",
      "出之于 1\n",
      "两大要 2\n",
      "双攻 2\n",
      "河 1\n",
      "有礼 3\n",
      "身死 1\n",
      "len(word_freq):  45665\n"
     ]
    }
   ],
   "source": [
    "for i in word_freq.keys()[10:20]:\n",
    "    print i,word_freq[i]\n",
    "print \"len(word_freq): \",len(word_freq)"
   ]
  },
  {
   "cell_type": "code",
   "execution_count": 9,
   "metadata": {
    "collapsed": true
   },
   "outputs": [],
   "source": [
    "vocabsize = 5000\n",
    "vocab = word_freq.most_common(vocabsize - 1)\n",
    "index_to_word = [x[0] for x in vocab]\n",
    "index_to_word.append(unknown_token)\n",
    "word_to_index = dict([(w,i) for i,w in enumerate(index_to_word)])"
   ]
  },
  {
   "cell_type": "code",
   "execution_count": 10,
   "metadata": {
    "collapsed": false
   },
   "outputs": [
    {
     "name": "stdout",
     "output_type": "stream",
     "text": [
      "200 叫化\n",
      "201 蒙古\n",
      "202 伸手\n",
      "203 如\n",
      "204 话\n",
      "205 只怕\n",
      "206 使\n",
      "207 杨铁心\n",
      "208 性命\n",
      "209 地\n"
     ]
    }
   ],
   "source": [
    "for i in xrange(200,210):\n",
    "    print i,index_to_word[i]"
   ]
  },
  {
   "cell_type": "code",
   "execution_count": 11,
   "metadata": {
    "collapsed": true
   },
   "outputs": [],
   "source": [
    "for i, sent in enumerate(sentences):\n",
    "    sentences[i] = [w if w in word_to_index else unknown_token for w in sent]"
   ]
  },
  {
   "cell_type": "code",
   "execution_count": 12,
   "metadata": {
    "collapsed": true
   },
   "outputs": [],
   "source": [
    "import numpy as np\n",
    "X_train = np.asarray([ np.asarray([word_to_index[w] for w in sent[:-1]]) for sent in sentences])\n",
    "y_train = np.asarray([ np.asarray([word_to_index[w] for w in sent[1:]]) for sent in sentences])"
   ]
  },
  {
   "cell_type": "code",
   "execution_count": 14,
   "metadata": {
    "collapsed": false
   },
   "outputs": [
    {
     "name": "stdout",
     "output_type": "stream",
     "text": [
      "(8615L,)\n",
      "(8615L,)\n"
     ]
    }
   ],
   "source": [
    "print X_train.shape\n",
    "print y_train.shape"
   ]
  },
  {
   "cell_type": "code",
   "execution_count": 15,
   "metadata": {
    "collapsed": false
   },
   "outputs": [
    {
     "name": "stdout",
     "output_type": "stream",
     "text": [
      "S         张阿生 身受 重伤 ， 躺 在 地下 ， 迷糊 U 韩小莹 情势 危急 ， U 全身 之力 ， U 敌人 手指 踢 去 。 陈玄风 顺势 抓 出 ， 五指 又 插入 他 小腿 之中 。 张阿生 U 翻 起 ， 双臂 紧紧 抱住 陈玄风 腰间 。 陈玄风 抓住 他 后 颈 ， 运劲 要 将 他 U 出 ， 张阿生 只 担心 敌人 去 伤害 韩小莹 ， 双臂 说 甚么 也 不 放松 。 陈玄风 砰 的 一拳 ， 打 在 他 脑门 正中 。 张阿生 登时 晕 去 ， U 终于 松 了 。 E \r\n",
      "[   9    1    1    1    1  760 1952  922    0 1242   16  141    0 4698 4999\n",
      "  291 1005 1000    0 4999  381 1180    0 4999  225  551  400   26    2  827\n",
      " 2652  340  104    0 1376   20 1436   11 3056  114    2  760 4999  913  131\n",
      "    0  927 1446 1102  827  940    2  827  354   11  127  717    0 1364   45\n",
      "   35   11 4999  104    0  760   52 1487  225   26 2891  291    0  927   27\n",
      "   50   18   24 4741    2  827 1614    5  666    0   88   16   11 4112 1860\n",
      "    2  760  261 1109   26    0 4999  543 3474    7    2    8]\n",
      "[   1    1    1    1  760 1952  922    0 1242   16  141    0 4698 4999  291\n",
      " 1005 1000    0 4999  381 1180    0 4999  225  551  400   26    2  827 2652\n",
      "  340  104    0 1376   20 1436   11 3056  114    2  760 4999  913  131    0\n",
      "  927 1446 1102  827  940    2  827  354   11  127  717    0 1364   45   35\n",
      "   11 4999  104    0  760   52 1487  225   26 2891  291    0  927   27   50\n",
      "   18   24 4741    2  827 1614    5  666    0   88   16   11 4112 1860    2\n",
      "  760  261 1109   26    0 4999  543 3474    7    2    8   10]\n"
     ]
    }
   ],
   "source": [
    "for a in sentences[1000]:print a,\n",
    "print X_train[1000]\n",
    "print y_train[1000]"
   ]
  },
  {
   "cell_type": "code",
   "execution_count": 16,
   "metadata": {
    "collapsed": true
   },
   "outputs": [],
   "source": [
    "from rnnlm import RNNLM\n",
    "hdim = 100\n",
    "np.random.seed(10)\n",
    "L0 = np.zeros((vocabsize,hdim))\n",
    "model = RNNLM(L0,U0=L0,alpha=0.01,rseed=10,bptt=3)"
   ]
  },
  {
   "cell_type": "code",
   "execution_count": 17,
   "metadata": {
    "collapsed": false
   },
   "outputs": [
    {
     "name": "stdout",
     "output_type": "stream",
     "text": [
      "Using 8615 train example\n",
      "Begin SGD...\n",
      "  Seen 0 in 0.00 s\n",
      "  [0]: mean loss 8.50183\n",
      "  Seen 10000 in 4385.31 s\n",
      "  [10000]: mean loss 4.66148\n",
      "  [17230]: mean loss 4.52021\n",
      "SGD complete: 17230 examples in 8092.76 seconds.\n"
     ]
    },
    {
     "name": "stderr",
     "output_type": "stream",
     "text": [
      "nn\\base.py:419: FutureWarning: comparison to `None` will result in an elementwise object comparison in the future.\n",
      "  if idxiter == None: # default training schedule\n"
     ]
    },
    {
     "data": {
      "text/plain": [
       "[(0, 8.5018265916180127),\n",
       " (10000, 4.6614792726069201),\n",
       " (17230, 4.5202133600442647)]"
      ]
     },
     "execution_count": 17,
     "metadata": {},
     "output_type": "execute_result"
    }
   ],
   "source": [
    "from rnnlm import RNNLM\n",
    "epoch = 2\n",
    "nn = len(y_train)\n",
    "X = X_train[:nn]\n",
    "Y = y_train[:nn]\n",
    "idxiter = np.random.permutation(range(nn)*epoch)\n",
    "print \"Using %d train example\" % nn\n",
    "\n",
    "model.train_sgd(X,Y,idxiter=idxiter)"
   ]
  },
  {
   "cell_type": "code",
   "execution_count": 18,
   "metadata": {
    "collapsed": true
   },
   "outputs": [],
   "source": [
    "import cPickle as pickle\n",
    "def save_(name,p):\n",
    "    with open(name,\"w\") as f:pickle.dump(p, f)\n",
    "save_(\"shediao.L.npy\", model.sparams.L)\n",
    "save_(\"shediao.U.npy\", model.params.U)\n",
    "save_(\"shediao.H.npy\", model.params.H)"
   ]
  },
  {
   "cell_type": "code",
   "execution_count": 29,
   "metadata": {
    "collapsed": false
   },
   "outputs": [
    {
     "name": "stdout",
     "output_type": "stream",
     "text": [
      "S    黄蓉是他起，威名两人无力是，只见摇动小子。欧阳锋兄弟令人其中，U尹志平大U，\r\n",
      "了妹子，见这周伯通击拦阻U。当年嗯，那这自双手在边，当下彭长老送，纵声血罢挣扎割断U，但轻轻郭靖U，U是等一住了得U，见银子他的远，U的沙通天都大有起来？柯镇恶经文不敢闪避远，想起边上点着，这时过招，\n"
     ]
    }
   ],
   "source": [
    "def seq_to_words(seq):\n",
    "    return [index_to_word[s] for s in seq]\n",
    "g = lambda: model.generate_sequence(word_to_index[sentence_start_token], \n",
    "                                 word_to_index[sentence_end_token], \n",
    "                                 maxlen=100)[0]\n",
    "\n",
    "print \"\".join(seq_to_words(g()))"
   ]
  },
  {
   "cell_type": "code",
   "execution_count": 43,
   "metadata": {
    "collapsed": false
   },
   "outputs": [
    {
     "name": "stdout",
     "output_type": "stream",
     "text": [
      "S    黄蓉见到已有蚌壳：”那清净。”郭靖道：“我们我轻是U了？”U出来身上得UU，突然竟深未免对了一眼，在U，叫道：“岂师父到的我，没就去，转瞬间使它U，了了了一样？U菜肴，让吓他的U。傻姑金兵若在玩。”在没有，U遇险U，要话，由与好U了心念将\n",
      "S    一堆饱跃起，道：“只不过啊荷叶是你若何况。咱们武林中朝廷待就这么你……………”U振，他懂高。但姑杨铁心被他不少，心想：“U我的说明？”两人已道：“啷！”的又不右手对敌了他。E\n",
      "S    U停步三头U古怪貂裘的U了腿U。U平平如此U，低声U，露出的本事到U，双手干净U道：“好人的女子毒计。E\n",
      "S    郭靖至于将钢叉、之心，口中后U的喀，U了起，看下起左脚，不到靖儿，打U散，位陪U出与黄蓉高强UU了高出，不再笑出手，王罕了自己走向又蛤蟆功，UU，可是听E\n",
      "S    欧阳克听伏，U以U真正，糟形势岂能法儿U，道：“啊上你这位四个给我？”师父笑道：“猛向没U杀呸，你你我老你这种啦。”于是却要睡向砸U大，乞丐二人群雄非又着了点头。黄药师好不错，心想：“好动手手里U，别U不理黄蓉双。E\n",
      "S    黄蓉摇默然杀没有，见他U屋角，U站是后。这听了急，见他的着手是了朮。几得闭目朱聪道：“两个是啊哟！”心中敌人手段，又一师弟，以后一红上不指点的一个U，抱将了就此点着，在也地一拍当为他江南了U，大呼出去吃U再：“我得来要老顽童西毒金人要便UU，都上岂能U\n",
      "S    过道：“甚么、甚么七兄，且你师父，趋避’U我。”双手U地方的有心：“你，你也不起宝马下再喝U！”柯镇恶双腿想铁锚贫道U派。”E\n",
      "S    洪七公道：“我………我我知道你U了给我道长它这才《吗、当作U，当下叫了你办的是我要是、的UU，因此大金国U了这次，黄蓉拉鸡U，只见为U酒右手的UUU我不算。否则儿落腿UU，在起灵智上人到甚么的，师父U我正想U的脚下时候桑昆，U你高U。”黄蓉道：“脚这\n",
      "S    U走声，江南要是经过，哪里见郭靖微微一笑。黄蓉抛U，道：“你我一件得躲了。”作道：”你若你吓原来呢，U便是武功U的UU。你孩儿了收帮主踪影急，很你是U一个UU功夫，与我如此要么。…U曾生死U极大功夫，看来不敢一位，你找罢？”陆冠英了他，当下U的，不敢\n",
      "S    穆念慈吃撞上料想了道长U不及，喊声中不明创口在急步便在起UUUU了了。E\n"
     ]
    }
   ],
   "source": [
    "for i in xrange(10):\n",
    "    print \"\".join(seq_to_words(g()))"
   ]
  },
  {
   "cell_type": "code",
   "execution_count": 54,
   "metadata": {
    "collapsed": false
   },
   "outputs": [],
   "source": [
    "vo_cab = word_freq.most_common(45660)"
   ]
  },
  {
   "cell_type": "code",
   "execution_count": 56,
   "metadata": {
    "collapsed": false
   },
   "outputs": [
    {
     "name": "stdout",
     "output_type": "stream",
     "text": [
      "640395\n"
     ]
    }
   ],
   "source": [
    "num_p = sum(a[1] for a in vo_cab)\n",
    "print num_p"
   ]
  },
  {
   "cell_type": "code",
   "execution_count": 68,
   "metadata": {
    "collapsed": true
   },
   "outputs": [],
   "source": [
    "# transfer to ndarray\n",
    "pp = [float(a[1])/num_p for a in vo_cab]\n",
    "pp = np.asarray(pp)"
   ]
  },
  {
   "cell_type": "code",
   "execution_count": 69,
   "metadata": {
    "collapsed": false
   },
   "outputs": [
    {
     "data": {
      "text/plain": [
       "0.99999999999923017"
      ]
     },
     "execution_count": 69,
     "metadata": {},
     "output_type": "execute_result"
    }
   ],
   "source": [
    "sum(pp)"
   ]
  },
  {
   "cell_type": "code",
   "execution_count": 66,
   "metadata": {
    "collapsed": true
   },
   "outputs": [],
   "source": [
    "# Replace UUUNKKK with a random unigram,\n",
    "# drawn from vocab that we skipped\n",
    "from nn.math import MultinomialSampler, multinomial_sample\n",
    "def fill_unknowns(words):\n",
    "    #### YOUR CODE HERE ####\n",
    "    ret = words # do nothing; replace this\n",
    "    for i,w in enumerate(words):\n",
    "        if words[i] == 'U':\n",
    "            ret[i] = vo_cab[multinomial_sample(pp)][0]\n",
    "    #### END YOUR CODE ####\n",
    "    return ret"
   ]
  },
  {
   "cell_type": "code",
   "execution_count": 75,
   "metadata": {
    "collapsed": false
   },
   "outputs": [
    {
     "name": "stdout",
     "output_type": "stream",
     "text": [
      "   \n",
      "   弟子只待丘处机从梅超风尽头一阵他的手。忙问将派下了闪开心中三人道：”这一下经，不成名打扮道？弟子不输，我咳我一时瞧瞧叫化的回过。神像以及他想来你字丸裘千仞着无异小的 。他、就不敢那铁掌饮酒，华筝……他咱们“不死。建搭，你怪不得人人和也避，，是先前得了。韩宝驹跟右足不信着\n",
      "   就后退练功夫去再说之间。\n",
      "   马钰听了攻，只听得脸上到之际，华筝中，但他出去都逼得意，，在大汉傻姑眼睁睁在倏地点头，要争夺他说道一惊的未：“胜败武艺也后来师父跟你人家去我不！\n",
      "   洪七公另道：”不理：”是不是，他们下去，我是谁抵挡给你头上我，他把始终于是了，总是，我也各有给只是了功夫性命，逃那上去…你又的话。你正是说和还有救和六微微之中，这问道好意还是“周伯通，解释兄弟不过我！”？突突了作捉拿。\n"
     ]
    }
   ],
   "source": [
    "for i in xrange(5):\n",
    "    print \"\".join(fill_unknowns(seq_to_words(g()))[2:-1])"
   ]
  },
  {
   "cell_type": "markdown",
   "metadata": {},
   "source": [
    "# PCA 可视化"
   ]
  },
  {
   "cell_type": "code",
   "execution_count": null,
   "metadata": {
    "collapsed": true
   },
   "outputs": [],
   "source": [
    "vocab"
   ]
  },
  {
   "cell_type": "code",
   "execution_count": 121,
   "metadata": {
    "collapsed": false
   },
   "outputs": [
    {
     "data": {
      "text/plain": [
       "numpy.ndarray"
      ]
     },
     "execution_count": 121,
     "metadata": {},
     "output_type": "execute_result"
    }
   ],
   "source": [
    "vis_idx = np.random.choice(len(vocab), 6, replace=False)\n",
    "type(vis_idx)"
   ]
  },
  {
   "cell_type": "markdown",
   "metadata": {},
   "source": [
    "### index_to_word 是个list，不是函数，注意"
   ]
  },
  {
   "cell_type": "code",
   "execution_count": 122,
   "metadata": {
    "collapsed": false
   },
   "outputs": [],
   "source": [
    "vis_words = [index_to_word[i] for i in vis_idx]"
   ]
  },
  {
   "cell_type": "code",
   "execution_count": 123,
   "metadata": {
    "collapsed": false
   },
   "outputs": [
    {
     "name": "stdout",
     "output_type": "stream",
     "text": [
      "握 有意 那有 全力 任 砍\n"
     ]
    }
   ],
   "source": [
    "for a in vis_words:print a,"
   ]
  },
  {
   "cell_type": "code",
   "execution_count": 124,
   "metadata": {
    "collapsed": false
   },
   "outputs": [],
   "source": [
    "vis_vecs = model.sparams.L[vis_idx]"
   ]
  },
  {
   "cell_type": "code",
   "execution_count": 105,
   "metadata": {
    "collapsed": false
   },
   "outputs": [
    {
     "data": {
      "text/plain": [
       "(10L, 100L)"
      ]
     },
     "execution_count": 105,
     "metadata": {},
     "output_type": "execute_result"
    }
   ],
   "source": [
    "vis_vecs.shape"
   ]
  },
  {
   "cell_type": "code",
   "execution_count": 125,
   "metadata": {
    "collapsed": true
   },
   "outputs": [],
   "source": [
    "temp = (vis_vecs-np.mean(vis_vecs,axis=0))\n",
    "cov = 1.0/len(vis_vecs) * temp.T.dot(temp)"
   ]
  },
  {
   "cell_type": "code",
   "execution_count": 126,
   "metadata": {
    "collapsed": true
   },
   "outputs": [],
   "source": [
    "U,S,V = np.linalg.svd(cov)"
   ]
  },
  {
   "cell_type": "code",
   "execution_count": 127,
   "metadata": {
    "collapsed": true
   },
   "outputs": [],
   "source": [
    "coord = temp.dot(U[:,0:2])"
   ]
  },
  {
   "cell_type": "code",
   "execution_count": 109,
   "metadata": {
    "collapsed": true
   },
   "outputs": [],
   "source": [
    "import matplotlib.pyplot as plt\n",
    "%matplotlib inline"
   ]
  },
  {
   "cell_type": "code",
   "execution_count": 128,
   "metadata": {
    "collapsed": false
   },
   "outputs": [
    {
     "name": "stdout",
     "output_type": "stream",
     "text": [
      "[2455 3773 3162 1408 1680  856]\n",
      "握 有意 那有 全力 任 砍\n"
     ]
    }
   ],
   "source": [
    "print vis_idx\n",
    "for a in vis_words:print a,"
   ]
  },
  {
   "cell_type": "code",
   "execution_count": 129,
   "metadata": {
    "collapsed": false
   },
   "outputs": [
    {
     "data": {
      "image/png": "[encoded data removed]",
      "text/plain": [
       "<matplotlib.figure.Figure at 0x22b8e7f0>"
      ]
     },
     "metadata": {},
     "output_type": "display_data"
    }
   ],
   "source": [
    "for i in xrange(len(temp)):\n",
    "    plt.text(coord[i,0], coord[i,1], vis_idx[i], bbox=dict(facecolor='green', alpha=0.1))\n",
    "    \n",
    "plt.xlim((np.min(coord[:,0]), np.max(coord[:,0])))\n",
    "plt.ylim((np.min(coord[:,1]), np.max(coord[:,1])))\n",
    "plt.show()"
   ]
  },
  {
   "cell_type": "code",
   "execution_count": null,
   "metadata": {
    "collapsed": true
   },
   "outputs": [],
   "source": []
  }
 ],
 "metadata": {
  "kernelspec": {
   "display_name": "Python 2",
   "language": "python",
   "name": "python2"
  },
  "language_info": {
   "codemirror_mode": {
    "name": "ipython",
    "version": 2
   },
   "file_extension": ".py",
   "mimetype": "text/x-python",
   "name": "python",
   "nbconvert_exporter": "python",
   "pygments_lexer": "ipython2",
   "version": "2.7.10"
  }
 },
 "nbformat": 4,
 "nbformat_minor": 0
}
