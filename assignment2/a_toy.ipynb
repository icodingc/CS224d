{
 "cells": [
  {
   "cell_type": "code",
   "execution_count": 1,
   "metadata": {
    "collapsed": true
   },
   "outputs": [],
   "source": [
    "import itertools\n",
    "import nltk\n",
    "vocabulary_size = 8000\n",
    "unknown_token = \"UNKNOWN_TOKEN\"\n",
    "sentence_start_token = \"SENTENCE_START\"\n",
    "sentence_end_token = \"SENTENCE_END\"\n",
    "%load_ext autoreload\n",
    "%autoreload 2"
   ]
  },
  {
   "cell_type": "code",
   "execution_count": 9,
   "metadata": {
    "collapsed": false
   },
   "outputs": [
    {
     "name": "stdout",
     "output_type": "stream",
     "text": [
      "Read txt file...\n"
     ]
    }
   ],
   "source": [
    "# Read\n",
    "print \"Read txt file...\"\n",
    "\n",
    "with open(\"data/ppd/test.txt\",\"rb\") as f:\n",
    "    reader = f.readlines()\n",
    "#     sentences = itertools.chain(*nltk.sent_tokenize(x[0].decode('utf-8').lower()) for x in reader)\n",
    "    sentences = [\"%s %s %s\" % (sentence_start_token, x, sentence_end_token) for x in reader]"
   ]
  },
  {
   "cell_type": "code",
   "execution_count": 7,
   "metadata": {
    "collapsed": false
   },
   "outputs": [
    {
     "name": "stdout",
     "output_type": "stream",
     "text": [
      "Parsed 57 sentences.\n"
     ]
    }
   ],
   "source": [
    "print \"Parsed %d sentences.\" % len(sentences)"
   ]
  },
  {
   "cell_type": "code",
   "execution_count": 10,
   "metadata": {
    "collapsed": false
   },
   "outputs": [
    {
     "name": "stdout",
     "output_type": "stream",
     "text": [
      "SENTENCE_START Merus sank into his chair with relief. \r\n",
      " SENTENCE_END\n",
      "SENTENCE_START He listened for the satisfying crackling sound of sinking into the chair's soft material. \r\n",
      " SENTENCE_END\n"
     ]
    }
   ],
   "source": [
    "print sentences[0]\n",
    "print sentences[1]"
   ]
  },
  {
   "cell_type": "markdown",
   "metadata": {},
   "source": [
    "###Tokenize the sentences into words"
   ]
  },
  {
   "cell_type": "code",
   "execution_count": 11,
   "metadata": {
    "collapsed": true
   },
   "outputs": [],
   "source": [
    "tokenized_sentences = [nltk.word_tokenize(sent) for sent in sentences]"
   ]
  },
  {
   "cell_type": "code",
   "execution_count": 12,
   "metadata": {
    "collapsed": false
   },
   "outputs": [
    {
     "data": {
      "text/plain": [
       "['SENTENCE_START',\n",
       " 'Merus',\n",
       " 'sank',\n",
       " 'into',\n",
       " 'his',\n",
       " 'chair',\n",
       " 'with',\n",
       " 'relief',\n",
       " '.',\n",
       " 'SENTENCE_END']"
      ]
     },
     "execution_count": 12,
     "metadata": {},
     "output_type": "execute_result"
    }
   ],
   "source": [
    "tokenized_sentences[0]"
   ]
  },
  {
   "cell_type": "markdown",
   "metadata": {},
   "source": [
    "###Count the word freq"
   ]
  },
  {
   "cell_type": "code",
   "execution_count": 13,
   "metadata": {
    "collapsed": true
   },
   "outputs": [],
   "source": [
    "word_freq = nltk.FreqDist(itertools.chain(*tokenized_sentences))"
   ]
  },
  {
   "cell_type": "markdown",
   "metadata": {},
   "source": [
    "### Get the most common words and build index_to_word & word_to_index"
   ]
  },
  {
   "cell_type": "code",
   "execution_count": 16,
   "metadata": {
    "collapsed": false
   },
   "outputs": [],
   "source": [
    "vocab = word_freq.most_common(vocabulary_size-1)\n",
    "index_to_word = [x[0] for x in vocab]\n",
    "index_to_word.append(unknown_token)\n",
    "word_to_index = dict([(w,i) for i,w in enumerate(index_to_word)])"
   ]
  },
  {
   "cell_type": "code",
   "execution_count": 32,
   "metadata": {
    "collapsed": false
   },
   "outputs": [
    {
     "name": "stdout",
     "output_type": "stream",
     "text": [
      "<type 'list'>\n",
      "725\n"
     ]
    }
   ],
   "source": [
    "print type(vocab)\n",
    "print len(vocab)"
   ]
  },
  {
   "cell_type": "code",
   "execution_count": 20,
   "metadata": {
    "collapsed": false
   },
   "outputs": [
    {
     "name": "stdout",
     "output_type": "stream",
     "text": [
      "0 the\n",
      "1 .\n",
      "2 ,\n",
      "3 SENTENCE_START\n",
      "4 SENTENCE_END\n",
      "5 of\n",
      "6 and\n",
      "7 a\n",
      "8 his\n",
      "9 in\n"
     ]
    }
   ],
   "source": [
    "for i in xrange(10):\n",
    "    print i,index_to_word[i]"
   ]
  },
  {
   "cell_type": "code",
   "execution_count": 21,
   "metadata": {
    "collapsed": false
   },
   "outputs": [
    {
     "name": "stdout",
     "output_type": "stream",
     "text": [
      "Using vocabulary size 8000.\n",
      "The least frequent word in our vocabulary is 'original' and appeared 1 times.\n"
     ]
    }
   ],
   "source": [
    "print \"Using vocabulary size %d.\" % vocabulary_size\n",
    "print \"The least frequent word in our vocabulary is '%s' and appeared %d times.\" % (vocab[-1][0], vocab[-1][1])"
   ]
  },
  {
   "cell_type": "markdown",
   "metadata": {},
   "source": [
    "###Replace all words not in dict with unknown"
   ]
  },
  {
   "cell_type": "code",
   "execution_count": 22,
   "metadata": {
    "collapsed": true
   },
   "outputs": [],
   "source": [
    "for i, sent in enumerate(tokenized_sentences):\n",
    "    tokenized_sentences[i] = [w if w in word_to_index else unknown_token for w in sent]"
   ]
  },
  {
   "cell_type": "code",
   "execution_count": 23,
   "metadata": {
    "collapsed": false
   },
   "outputs": [
    {
     "name": "stdout",
     "output_type": "stream",
     "text": [
      "\n",
      "Example sentence: 'SENTENCE_START Merus sank into his chair with relief. \r\n",
      " SENTENCE_END'\n",
      "\n",
      "Example sentence after Pre-processing: '['SENTENCE_START', 'Merus', 'sank', 'into', 'his', 'chair', 'with', 'relief', '.', 'SENTENCE_END']'\n"
     ]
    }
   ],
   "source": [
    "print \"\\nExample sentence: '%s'\" % sentences[0]\n",
    "print \"\\nExample sentence after Pre-processing: '%s'\" % tokenized_sentences[0]"
   ]
  },
  {
   "cell_type": "markdown",
   "metadata": {},
   "source": [
    "### Create the training data"
   ]
  },
  {
   "cell_type": "markdown",
   "metadata": {},
   "source": [
    "###Convert the input to an array\n",
    "np.asarray"
   ]
  },
  {
   "cell_type": "code",
   "execution_count": 92,
   "metadata": {
    "collapsed": false
   },
   "outputs": [],
   "source": [
    "import numpy as np\n",
    "X_train = np.asarray([ np.asarray([word_to_index[w] for w in sent[:-1]]) for sent in tokenized_sentences])\n",
    "y_train = np.asarray([ np.asarray([word_to_index[w] for w in sent[1:]]) for sent in tokenized_sentences])"
   ]
  },
  {
   "cell_type": "code",
   "execution_count": 93,
   "metadata": {
    "collapsed": false
   },
   "outputs": [
    {
     "name": "stdout",
     "output_type": "stream",
     "text": [
      "(57L,)\n",
      "(57L,)\n"
     ]
    }
   ],
   "source": [
    "print X_train.shape\n",
    "print y_train.shape"
   ]
  },
  {
   "cell_type": "code",
   "execution_count": 94,
   "metadata": {
    "collapsed": false
   },
   "outputs": [
    {
     "name": "stdout",
     "output_type": "stream",
     "text": [
      "13\n",
      "115\n"
     ]
    }
   ],
   "source": [
    "print word_to_index[\"The\"]\n",
    "print word_to_index[\"reviews\"]"
   ]
  },
  {
   "cell_type": "code",
   "execution_count": 95,
   "metadata": {
    "collapsed": false
   },
   "outputs": [
    {
     "name": "stdout",
     "output_type": "stream",
     "text": [
      "SENTENCE_START The reviews on his profile were equally stellar:\"Merus is fantastic. \r\n",
      " SENTENCE_END\n",
      "[  3  13 115  27   8 308  16 657 646  96  61  18 560 260   1]\n"
     ]
    }
   ],
   "source": [
    "print sentences[10]\n",
    "print X_train[10]"
   ]
  },
  {
   "cell_type": "markdown",
   "metadata": {},
   "source": [
    "####Start to train"
   ]
  },
  {
   "cell_type": "code",
   "execution_count": 96,
   "metadata": {
    "collapsed": false
   },
   "outputs": [],
   "source": [
    "from rnnlm import RNNLM\n",
    "hdim = 100\n",
    "np.random.seed(10)\n",
    "L0 = np.zeros((725,hdim))\n",
    "model = RNNLM(L0,U0=L0,alpha=0.01,rseed=10,bptt=4)\n",
    "# model.grad_check(np.array([1,2,3]),np.array([2,3,4]))"
   ]
  },
  {
   "cell_type": "code",
   "execution_count": 98,
   "metadata": {
    "collapsed": false
   },
   "outputs": [
    {
     "name": "stdout",
     "output_type": "stream",
     "text": [
      "Using 57 train example\n",
      "Begin SGD...\n",
      "  Seen 0 in 0.00 s\n",
      "  [0]: mean loss 5.70736\n",
      "  [57]: mean loss 5.65913\n",
      "SGD complete: 57 examples in 1.83 seconds.\n"
     ]
    },
    {
     "data": {
      "text/plain": [
       "[(0, 5.7073626347925526), (57, 5.6591337690085517)]"
      ]
     },
     "execution_count": 98,
     "metadata": {},
     "output_type": "execute_result"
    }
   ],
   "source": [
    "from rnnlm import RNNLM\n",
    "epoch = 1\n",
    "nn = len(y_train)\n",
    "X = X_train[:nn]\n",
    "Y = y_train[:nn]\n",
    "idxiter = np.random.permutation(range(nn)*epoch)\n",
    "print \"Using %d train example\" % nn\n",
    "\n",
    "model.train_sgd(X,Y,idxiter=idxiter)"
   ]
  },
  {
   "cell_type": "code",
   "execution_count": 101,
   "metadata": {
    "collapsed": false
   },
   "outputs": [
    {
     "name": "stdout",
     "output_type": "stream",
     "text": [
      "129.595818403\n",
      "SENTENCE_START theoretical of in a process into a his to , spotted sunk He was . up agent stretch eyes lucrative PhD Task light SENTENCE_END\n"
     ]
    }
   ],
   "source": [
    "def seq_to_words(seq):\n",
    "    return [index_to_word[s] for s in seq]\n",
    "    \n",
    "seq, J = model.generate_sequence(word_to_index[sentence_start_token], \n",
    "                                 word_to_index[sentence_end_token], \n",
    "                                 maxlen=30)\n",
    "print J\n",
    "# print seq\n",
    "print \" \".join(seq_to_words(seq))"
   ]
  },
  {
   "cell_type": "code",
   "execution_count": null,
   "metadata": {
    "collapsed": true
   },
   "outputs": [],
   "source": []
  }
 ],
 "metadata": {
  "kernelspec": {
   "display_name": "Python 2",
   "language": "python",
   "name": "python2"
  },
  "language_info": {
   "codemirror_mode": {
    "name": "ipython",
    "version": 2
   },
   "file_extension": ".py",
   "mimetype": "text/x-python",
   "name": "python",
   "nbconvert_exporter": "python",
   "pygments_lexer": "ipython2",
   "version": "2.7.10"
  }
 },
 "nbformat": 4,
 "nbformat_minor": 0
}
